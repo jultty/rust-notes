{
 "cells": [
  {
   "cell_type": "markdown",
   "id": "c9d8153a-f2cf-4353-9303-c7f4ff363ffa",
   "metadata": {},
   "source": [
    "# Basics"
   ]
  },
  {
   "cell_type": "markdown",
   "id": "42ab7719-7efb-4838-8308-401f8086b99b",
   "metadata": {},
   "source": [
    "## Compilation"
   ]
  },
  {
   "cell_type": "markdown",
   "id": "a7a3b0f9-3534-47d4-af28-11ae734a24b9",
   "metadata": {},
   "source": [
    "Compilation without the Cargo build tool uses `rustc`:"
   ]
  },
  {
   "cell_type": "markdown",
   "id": "0e9d2662-5615-424d-a3cb-e88e039a8a17",
   "metadata": {},
   "source": [
    "```sh\n",
    "rustc main.rs\n",
    "./main\n",
    "Hello, world!\n",
    "```"
   ]
  },
  {
   "cell_type": "markdown",
   "id": "15440481-1c6b-4a48-984c-b72989f955fb",
   "metadata": {},
   "source": [
    "> Rust is an _ahead-of-time compiled_ language, meaning you can compile a program and give the executable to someone else, and they can run it even without having Rust installed."
   ]
  },
  {
   "cell_type": "markdown",
   "id": "ca603ab8-9de9-4600-84e3-6b707122160b",
   "metadata": {},
   "source": [
    "## Declarations"
   ]
  },
  {
   "cell_type": "markdown",
   "id": "d5bc0740-b44c-4b7c-a5c8-f286419a4b16",
   "metadata": {},
   "source": [
    "Rust has types and defaults to immutable variables."
   ]
  },
  {
   "cell_type": "code",
   "execution_count": 9,
   "id": "0918343b-e8d0-4d2a-8717-efca128a93b0",
   "metadata": {
    "tags": []
   },
   "outputs": [
    {
     "name": "stdout",
     "output_type": "stream",
     "text": [
      "63110\n"
     ]
    }
   ],
   "source": [
    "let i: i32 = 63110;\n",
    "\n",
    "println!(\"{}\", i);"
   ]
  },
  {
   "cell_type": "code",
   "execution_count": 10,
   "id": "b116282a-af37-4f22-9b6b-ce7924403f11",
   "metadata": {},
   "outputs": [
    {
     "ename": "Error",
     "evalue": "cannot assign twice to immutable variable `i`",
     "output_type": "error",
     "traceback": [
      "\u001b[31m[E0384] Error:\u001b[0m cannot assign twice to immutable variable `i`",
      "   \u001b[38;5;246m╭\u001b[0m\u001b[38;5;246m─\u001b[0m\u001b[38;5;246m[\u001b[0mcommand_10:1:1\u001b[38;5;246m]\u001b[0m",
      "   \u001b[38;5;246m│\u001b[0m",
      " \u001b[38;5;246m1 │\u001b[0m \u001b[38;5;54mi\u001b[0m\u001b[38;5;54m \u001b[0m\u001b[38;5;54m=\u001b[0m\u001b[38;5;54m \u001b[0m\u001b[38;5;54m3\u001b[0m\u001b[38;5;249m;\u001b[0m\u001b[38;5;249m \u001b[0m\u001b[38;5;249m/\u001b[0m\u001b[38;5;249m/\u001b[0m\u001b[38;5;249m \u001b[0m\u001b[38;5;249me\u001b[0m\u001b[38;5;249mr\u001b[0m\u001b[38;5;249mr\u001b[0m\u001b[38;5;249mo\u001b[0m\u001b[38;5;249mr\u001b[0m\u001b[38;5;249m:\u001b[0m\u001b[38;5;249m \u001b[0m\u001b[38;5;249mc\u001b[0m\u001b[38;5;249ma\u001b[0m\u001b[38;5;249mn\u001b[0m\u001b[38;5;249mn\u001b[0m\u001b[38;5;249mo\u001b[0m\u001b[38;5;249mt\u001b[0m\u001b[38;5;249m \u001b[0m\u001b[38;5;249ma\u001b[0m\u001b[38;5;249ms\u001b[0m\u001b[38;5;249ms\u001b[0m\u001b[38;5;249mi\u001b[0m\u001b[38;5;249mg\u001b[0m\u001b[38;5;249mn\u001b[0m\u001b[38;5;249m \u001b[0m\u001b[38;5;249mt\u001b[0m\u001b[38;5;249mw\u001b[0m\u001b[38;5;249mi\u001b[0m\u001b[38;5;249mc\u001b[0m\u001b[38;5;249me\u001b[0m\u001b[38;5;249m \u001b[0m\u001b[38;5;249mt\u001b[0m\u001b[38;5;249mo\u001b[0m\u001b[38;5;249m \u001b[0m\u001b[38;5;249mi\u001b[0m\u001b[38;5;249mm\u001b[0m\u001b[38;5;249mm\u001b[0m\u001b[38;5;249mu\u001b[0m\u001b[38;5;249mt\u001b[0m\u001b[38;5;249ma\u001b[0m\u001b[38;5;249mb\u001b[0m\u001b[38;5;249ml\u001b[0m\u001b[38;5;249me\u001b[0m\u001b[38;5;249m \u001b[0m\u001b[38;5;249mv\u001b[0m\u001b[38;5;249ma\u001b[0m\u001b[38;5;249mr\u001b[0m\u001b[38;5;249mi\u001b[0m\u001b[38;5;249ma\u001b[0m\u001b[38;5;249mb\u001b[0m\u001b[38;5;249ml\u001b[0m\u001b[38;5;249me\u001b[0m",
      " \u001b[38;5;240m  │\u001b[0m \u001b[38;5;54m─\u001b[0m\u001b[38;5;54m─\u001b[0m\u001b[38;5;54m┬\u001b[0m\u001b[38;5;54m─\u001b[0m\u001b[38;5;54m─\u001b[0m  ",
      " \u001b[38;5;240m  │\u001b[0m   \u001b[38;5;54m╰\u001b[0m\u001b[38;5;54m─\u001b[0m\u001b[38;5;54m─\u001b[0m\u001b[38;5;54m─\u001b[0m\u001b[38;5;54m─\u001b[0m cannot assign twice to immutable variable",
      " \u001b[38;5;240m  │\u001b[0m ",
      " \u001b[38;5;240m  │\u001b[0m \u001b[38;5;115mNote\u001b[0m: You can change an existing variable to mutable like: `let mut x = x;`",
      "\u001b[38;5;246m───╯\u001b[0m"
     ]
    }
   ],
   "source": [
    "i = 3; // error: cannot assign twice to immutable variable"
   ]
  },
  {
   "cell_type": "code",
   "execution_count": 11,
   "id": "131dc8ad-54e4-4cb9-b935-a09e2190dadf",
   "metadata": {},
   "outputs": [
    {
     "name": "stdout",
     "output_type": "stream",
     "text": [
      "3\n"
     ]
    }
   ],
   "source": [
    "let mut b: f32 = 2.63110001;\n",
    "b = 3.00000001;\n",
    "\n",
    "println!(\"{}\", b);"
   ]
  },
  {
   "cell_type": "code",
   "execution_count": 10,
   "id": "886ad7af-b1a9-468f-a63e-c3882db5795c",
   "metadata": {},
   "outputs": [
    {
     "name": "stdout",
     "output_type": "stream",
     "text": [
      "foo\n"
     ]
    }
   ],
   "source": [
    "let s: &str = \"foo\";\n",
    "\n",
    "println!(\"{}\", s);"
   ]
  },
  {
   "cell_type": "markdown",
   "id": "7fbb29a0-dac2-43f5-89e9-658078d3a855",
   "metadata": {},
   "source": [
    "### Functions"
   ]
  },
  {
   "cell_type": "code",
   "execution_count": 17,
   "id": "aab89fe5-e145-4a52-ae3b-17c5349991c7",
   "metadata": {},
   "outputs": [],
   "source": [
    "fn main() {\n",
    "    println!(\"hello, rust\");\n",
    "}"
   ]
  },
  {
   "cell_type": "markdown",
   "id": "d2915d65-257b-4c55-9ef5-199fd805111d",
   "metadata": {},
   "source": [
    "A function named `main` has special meaning and will be picked up as the entry point."
   ]
  },
  {
   "cell_type": "markdown",
   "id": "9a86ceb2-9b77-472a-8a81-f91e8e284982",
   "metadata": {},
   "source": [
    "## Macros"
   ]
  },
  {
   "cell_type": "markdown",
   "id": "1565baae-1272-4e09-a5b1-03c92f88e527",
   "metadata": {},
   "source": [
    "Macros typically end with a `!` as in `println!()`."
   ]
  },
  {
   "cell_type": "markdown",
   "id": "033c8a93-a487-4a54-bf77-272e4e15e5c7",
   "metadata": {},
   "source": [
    "## Style"
   ]
  },
  {
   "cell_type": "markdown",
   "id": "6eec4e80-a4eb-486f-9742-7dec6b5b5387",
   "metadata": {},
   "source": [
    "- Four-spaces indentation"
   ]
  },
  {
   "cell_type": "markdown",
   "id": "192198c6-3724-4791-b96e-6cd4812a709d",
   "metadata": {},
   "source": [
    "## Tooling"
   ]
  },
  {
   "cell_type": "markdown",
   "id": "a4b6990e-d447-41a1-903c-adf3d0b11858",
   "metadata": {},
   "source": [
    "### Cargo"
   ]
  },
  {
   "cell_type": "markdown",
   "id": "f612b618-665a-4371-a9c4-7eb15d3daa9d",
   "metadata": {},
   "source": [
    "Cargo's primary roles are to compile the project source code and manage dependencies."
   ]
  },
  {
   "cell_type": "markdown",
   "id": "1bdcc9f9-5408-4d7f-8fba-c37a2f7daf61",
   "metadata": {},
   "source": [
    "#### Project creation"
   ]
  },
  {
   "cell_type": "markdown",
   "id": "6c4498a6-3acb-4fad-a520-95aea72c4426",
   "metadata": {},
   "source": [
    "```sh\n",
    "cargo new hello_cargo\n",
    "cd hello_cargo\n",
    "```"
   ]
  },
  {
   "cell_type": "markdown",
   "id": "cad5aa26-3af8-405e-93c1-dd10633f01a0",
   "metadata": {},
   "source": [
    "Upon creating a project, cargo will setup the following file structure:\n",
    "\n",
    "```\n",
    ".\n",
    "├── .git\n",
    "├── .gitignore\n",
    "├── Cargo.toml\n",
    "└── src\n",
    "    └── main.rs\n",
    "```"
   ]
  },
  {
   "cell_type": "markdown",
   "id": "11b35b7e-f951-4b4c-bc6e-fc2f7ef5f9b7",
   "metadata": {},
   "source": [
    "There are additional options for project creation. See `cargo new --help` for an overview."
   ]
  },
  {
   "cell_type": "markdown",
   "id": "178af59a-222e-43b1-9d1d-9231dd3ebb25",
   "metadata": {},
   "source": [
    "#### `Cargo.toml`"
   ]
  },
  {
   "cell_type": "markdown",
   "id": "2b412b94-8d7e-41f1-a64f-26257e86164c",
   "metadata": {},
   "source": [
    "Cargo projects are configured through a `Cargo.toml` at the project root. Upon project creation, it has the following contents:"
   ]
  },
  {
   "cell_type": "markdown",
   "id": "9685c210-0017-48ea-acf4-f44ce95d5e95",
   "metadata": {},
   "source": [
    "```toml\n",
    "[package]\n",
    "name = \"hello2\"\n",
    "version = \"0.1.0\"\n",
    "edition = \"2021\"\n",
    "\n",
    "[dependencies]\n",
    "```"
   ]
  },
  {
   "cell_type": "markdown",
   "id": "3f1740a6-f96f-4d22-9e42-99beb9ca42b3",
   "metadata": {},
   "source": [
    "For a reference containing all options, see [the manifest](https://doc.rust-lang.org/cargo/reference/manifest.html)."
   ]
  },
  {
   "cell_type": "markdown",
   "id": "67c4f7cc-3934-4242-875c-a00da430daa7",
   "metadata": {},
   "source": [
    "#### Checking"
   ]
  },
  {
   "cell_type": "markdown",
   "id": "7f661a96-6e7e-42a9-9385-c6874e4474e3",
   "metadata": {},
   "source": [
    "The `cargo check` command will analyze the code and determine if it compiles, but without producing any executables.\n",
    "\n",
    "It's a faster alternative to always building just to know if the code can compile."
   ]
  },
  {
   "cell_type": "markdown",
   "id": "3ddabaad-3f70-4b5c-b620-081a0a9699b1",
   "metadata": {},
   "source": [
    "#### Building"
   ]
  },
  {
   "cell_type": "markdown",
   "id": "60a4881e-04c0-40bb-8f32-29999d84b68c",
   "metadata": {},
   "source": [
    "A project can be built with `cargo build`. This will create a `target/debug` directory containing the build artifacts.\n",
    "\n",
    "This will also produce a `Cargo.lock` file at the project root.\n",
    "\n",
    "To produce an optimized release executable, use `cargo build --release`.\n",
    "\n",
    "A release build is slower and will create executables in `target/release`."
   ]
  },
  {
   "cell_type": "markdown",
   "id": "f4799d9e-8f68-426d-8fb3-04d0d7d105dd",
   "metadata": {},
   "source": [
    "#### Running"
   ]
  },
  {
   "cell_type": "markdown",
   "id": "1e58b73c-f8e6-4689-bccd-dd40a6892960",
   "metadata": {},
   "source": [
    "The project can be executed with `cargo run`. If it has not been built yet, it will be."
   ]
  },
  {
   "cell_type": "markdown",
   "id": "706c460c-647e-4250-a18d-deb58109d5d4",
   "metadata": {},
   "source": [
    "It is aware of code modifications, so it will not build again if nothing has changed."
   ]
  },
  {
   "cell_type": "markdown",
   "id": "ba881c44-3361-466f-9f14-ec386c03120e",
   "metadata": {},
   "source": [
    "### Clippy"
   ]
  },
  {
   "cell_type": "markdown",
   "id": "4e3bc28c-79c1-4af7-be02-04ee165fe299",
   "metadata": {},
   "source": [
    "Clippy is a linter. It can be installed with `rustup component add clippy` and used with `cargo clippy`, which also appears as as the `cargo-clippy` executable."
   ]
  },
  {
   "cell_type": "markdown",
   "id": "fe58b8fd-3a73-4c3c-9fb4-b426bb032c2d",
   "metadata": {},
   "source": [
    "### `rustfmt`"
   ]
  },
  {
   "cell_type": "markdown",
   "id": "2268b544-c73a-4036-b250-e164a8d0c489",
   "metadata": {},
   "source": [
    "`rustfmt` formats code. It can be used as `cargo fmt` to format a whole Cargo project, or on an individual file as  `rustfmt <file>`."
   ]
  },
  {
   "cell_type": "markdown",
   "id": "66df2a0e-b9cb-4455-8920-b7a318fc20af",
   "metadata": {},
   "source": [
    "### `rustfix`"
   ]
  },
  {
   "cell_type": "markdown",
   "id": "24a25987-987e-490e-a0f6-338eea55287a",
   "metadata": {},
   "source": [
    "`rustfix` fixes some errors flagged by the compiler. It's used on the whole project with `cargo fix`."
   ]
  },
  {
   "cell_type": "markdown",
   "id": "96ebdef8-1d8a-4649-b2d8-17f11ee3f9fd",
   "metadata": {},
   "source": [
    "### rust-analyzer"
   ]
  },
  {
   "cell_type": "markdown",
   "id": "793fe609-f20e-4609-830c-d07c78d45ec4",
   "metadata": {},
   "source": [
    "`rust-analyzer` is a language server for Rust.\n",
    "\n",
    "It can be installed with `rustup component add rust-analyzer` and also requires the standard library sources. To obtain these, run `rustup component add rust-src`.\n",
    "\n",
    "A compatible editor configured for it is also needed. For Neovim, see [nvim-lspconfig's server configuration](https://github.com/neovim/nvim-lspconfig/blob/master/doc/server_configurations.md#rust_analyzer)."
   ]
  },
  {
   "cell_type": "markdown",
   "id": "14207999-b93f-499e-8ad4-45a29fca6cc5",
   "metadata": {},
   "source": [
    "### See also\n",
    "- [The Cargo Book](https://doc.rust-lang.org/cargo/index.html)\n",
    "- [Clippy documentation](https://github.com/rust-lang/rust-clippy)\n",
    "- [rustfmt documentation](https://github.com/rust-lang/rustfmt)\n",
    "- [rust-analyzer homepage](https://rust-analyzer.github.io/)"
   ]
  }
 ],
 "metadata": {
  "kernelspec": {
   "display_name": "Rust",
   "language": "rust",
   "name": "rust"
  },
  "language_info": {
   "codemirror_mode": "rust",
   "file_extension": ".rs",
   "mimetype": "text/rust",
   "name": "Rust",
   "pygment_lexer": "rust",
   "version": ""
  }
 },
 "nbformat": 4,
 "nbformat_minor": 5
}
