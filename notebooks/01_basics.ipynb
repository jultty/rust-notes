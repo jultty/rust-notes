{
 "cells": [
  {
   "cell_type": "markdown",
   "id": "c9d8153a-f2cf-4353-9303-c7f4ff363ffa",
   "metadata": {},
   "source": [
    "# Basics"
   ]
  },
  {
   "cell_type": "markdown",
   "id": "d60f5566-a3f6-4f55-8d93-b7b672f8619a",
   "metadata": {},
   "source": [
    "This document consists of notes taken while reading the book [The Rust Programming Language](https://doc.rust-lang.org/book). Unnamed chapter references are references to this book."
   ]
  },
  {
   "cell_type": "markdown",
   "id": "91eb6383-aa12-43e5-bb71-c9dbc96de9cc",
   "metadata": {},
   "source": [
    "## Syntax"
   ]
  },
  {
   "cell_type": "markdown",
   "id": "10f2d677-791a-42f1-8eae-5ee9e60295e0",
   "metadata": {
    "jp-MarkdownHeadingCollapsed": true
   },
   "source": [
    "### Assignments"
   ]
  },
  {
   "cell_type": "markdown",
   "id": "4c2c5ddc-d023-4c93-9df1-fea47a53622d",
   "metadata": {
    "jp-MarkdownHeadingCollapsed": true
   },
   "source": [
    "#### Types"
   ]
  },
  {
   "cell_type": "markdown",
   "id": "714d0fc4-b921-4c2c-831d-717663947b19",
   "metadata": {},
   "source": [
    "A variable's type can be inferred or it can be defined as having a certain type."
   ]
  },
  {
   "cell_type": "code",
   "execution_count": 10,
   "id": "ecd1088e-db0e-46a6-9a80-352603a8323c",
   "metadata": {},
   "outputs": [],
   "source": [
    "let n1 = 20;\n",
    "let n2: i32 = 22;\n",
    "let n3: f32 = 24.68;\n",
    "let s1: &str = \"hello, types\";"
   ]
  },
  {
   "cell_type": "markdown",
   "id": "0fe2d932-0db0-4b7d-80f1-bde5acf0caa2",
   "metadata": {
    "jp-MarkdownHeadingCollapsed": true
   },
   "source": [
    "#### Immutability"
   ]
  },
  {
   "cell_type": "markdown",
   "id": "d5bc0740-b44c-4b7c-a5c8-f286419a4b16",
   "metadata": {},
   "source": [
    "Rust defaults to immutable variables."
   ]
  },
  {
   "cell_type": "code",
   "execution_count": 9,
   "id": "0918343b-e8d0-4d2a-8717-efca128a93b0",
   "metadata": {
    "tags": []
   },
   "outputs": [
    {
     "name": "stdout",
     "output_type": "stream",
     "text": [
      "63110\n"
     ]
    }
   ],
   "source": [
    "let i: i32 = 63110;\n",
    "\n",
    "println!(\"{}\", i);"
   ]
  },
  {
   "cell_type": "code",
   "execution_count": 10,
   "id": "b116282a-af37-4f22-9b6b-ce7924403f11",
   "metadata": {},
   "outputs": [
    {
     "ename": "Error",
     "evalue": "cannot assign twice to immutable variable `i`",
     "output_type": "error",
     "traceback": [
      "\u001b[31m[E0384] Error:\u001b[0m cannot assign twice to immutable variable `i`",
      "   \u001b[38;5;246m╭\u001b[0m\u001b[38;5;246m─\u001b[0m\u001b[38;5;246m[\u001b[0mcommand_10:1:1\u001b[38;5;246m]\u001b[0m",
      "   \u001b[38;5;246m│\u001b[0m",
      " \u001b[38;5;246m1 │\u001b[0m \u001b[38;5;54mi\u001b[0m\u001b[38;5;54m \u001b[0m\u001b[38;5;54m=\u001b[0m\u001b[38;5;54m \u001b[0m\u001b[38;5;54m3\u001b[0m\u001b[38;5;249m;\u001b[0m\u001b[38;5;249m \u001b[0m\u001b[38;5;249m/\u001b[0m\u001b[38;5;249m/\u001b[0m\u001b[38;5;249m \u001b[0m\u001b[38;5;249me\u001b[0m\u001b[38;5;249mr\u001b[0m\u001b[38;5;249mr\u001b[0m\u001b[38;5;249mo\u001b[0m\u001b[38;5;249mr\u001b[0m\u001b[38;5;249m:\u001b[0m\u001b[38;5;249m \u001b[0m\u001b[38;5;249mc\u001b[0m\u001b[38;5;249ma\u001b[0m\u001b[38;5;249mn\u001b[0m\u001b[38;5;249mn\u001b[0m\u001b[38;5;249mo\u001b[0m\u001b[38;5;249mt\u001b[0m\u001b[38;5;249m \u001b[0m\u001b[38;5;249ma\u001b[0m\u001b[38;5;249ms\u001b[0m\u001b[38;5;249ms\u001b[0m\u001b[38;5;249mi\u001b[0m\u001b[38;5;249mg\u001b[0m\u001b[38;5;249mn\u001b[0m\u001b[38;5;249m \u001b[0m\u001b[38;5;249mt\u001b[0m\u001b[38;5;249mw\u001b[0m\u001b[38;5;249mi\u001b[0m\u001b[38;5;249mc\u001b[0m\u001b[38;5;249me\u001b[0m\u001b[38;5;249m \u001b[0m\u001b[38;5;249mt\u001b[0m\u001b[38;5;249mo\u001b[0m\u001b[38;5;249m \u001b[0m\u001b[38;5;249mi\u001b[0m\u001b[38;5;249mm\u001b[0m\u001b[38;5;249mm\u001b[0m\u001b[38;5;249mu\u001b[0m\u001b[38;5;249mt\u001b[0m\u001b[38;5;249ma\u001b[0m\u001b[38;5;249mb\u001b[0m\u001b[38;5;249ml\u001b[0m\u001b[38;5;249me\u001b[0m\u001b[38;5;249m \u001b[0m\u001b[38;5;249mv\u001b[0m\u001b[38;5;249ma\u001b[0m\u001b[38;5;249mr\u001b[0m\u001b[38;5;249mi\u001b[0m\u001b[38;5;249ma\u001b[0m\u001b[38;5;249mb\u001b[0m\u001b[38;5;249ml\u001b[0m\u001b[38;5;249me\u001b[0m",
      " \u001b[38;5;240m  │\u001b[0m \u001b[38;5;54m─\u001b[0m\u001b[38;5;54m─\u001b[0m\u001b[38;5;54m┬\u001b[0m\u001b[38;5;54m─\u001b[0m\u001b[38;5;54m─\u001b[0m  ",
      " \u001b[38;5;240m  │\u001b[0m   \u001b[38;5;54m╰\u001b[0m\u001b[38;5;54m─\u001b[0m\u001b[38;5;54m─\u001b[0m\u001b[38;5;54m─\u001b[0m\u001b[38;5;54m─\u001b[0m cannot assign twice to immutable variable",
      " \u001b[38;5;240m  │\u001b[0m ",
      " \u001b[38;5;240m  │\u001b[0m \u001b[38;5;115mNote\u001b[0m: You can change an existing variable to mutable like: `let mut x = x;`",
      "\u001b[38;5;246m───╯\u001b[0m"
     ]
    }
   ],
   "source": [
    "i = 3; // error: cannot assign twice to immutable variable"
   ]
  },
  {
   "cell_type": "code",
   "execution_count": 11,
   "id": "131dc8ad-54e4-4cb9-b935-a09e2190dadf",
   "metadata": {},
   "outputs": [
    {
     "name": "stdout",
     "output_type": "stream",
     "text": [
      "3\n"
     ]
    }
   ],
   "source": [
    "let mut b: f32 = 2.63110001;\n",
    "b = 3.00000001;\n",
    "\n",
    "println!(\"{}\", b);"
   ]
  },
  {
   "cell_type": "code",
   "execution_count": 10,
   "id": "886ad7af-b1a9-468f-a63e-c3882db5795c",
   "metadata": {},
   "outputs": [
    {
     "name": "stdout",
     "output_type": "stream",
     "text": [
      "foo\n"
     ]
    }
   ],
   "source": [
    "let s: &str = \"foo\";\n",
    "\n",
    "println!(\"{}\", s);"
   ]
  },
  {
   "cell_type": "markdown",
   "id": "ad7ab669-4730-48ea-9e92-c57259ad246e",
   "metadata": {
    "jp-MarkdownHeadingCollapsed": true
   },
   "source": [
    "##### `new`"
   ]
  },
  {
   "cell_type": "markdown",
   "id": "38185245-ba1c-4dfe-b955-90da65304aa5",
   "metadata": {},
   "source": [
    "The `new` in `let s = String::new();` is a function that returns a new **instance** of a String."
   ]
  },
  {
   "cell_type": "markdown",
   "id": "1655a3e7-0591-45b3-afb4-689afaf65529",
   "metadata": {},
   "source": [
    "The `::` indicates `new` is an _associated function_  of the `String` type."
   ]
  },
  {
   "cell_type": "markdown",
   "id": "ad0925a0-ab6f-41f1-b44a-2b0b1b6a58e3",
   "metadata": {},
   "source": [
    "> An _associated function_ is a function that’s implemented on a type, in this case `String`.\n",
    "\n",
    "-- The Rust Programming Language, Chapter 2: _Programming a Guessing Game_"
   ]
  },
  {
   "cell_type": "markdown",
   "id": "695d2c54-5c65-41ed-bae9-bdb5bd846729",
   "metadata": {},
   "source": [
    "### Control flow"
   ]
  },
  {
   "cell_type": "markdown",
   "id": "7fbb29a0-dac2-43f5-89e9-658078d3a855",
   "metadata": {
    "jp-MarkdownHeadingCollapsed": true
   },
   "source": [
    "#### Functions"
   ]
  },
  {
   "cell_type": "code",
   "execution_count": 17,
   "id": "aab89fe5-e145-4a52-ae3b-17c5349991c7",
   "metadata": {},
   "outputs": [],
   "source": [
    "fn main() {\n",
    "    println!(\"hello, rust\");\n",
    "}"
   ]
  },
  {
   "cell_type": "markdown",
   "id": "d2915d65-257b-4c55-9ef5-199fd805111d",
   "metadata": {},
   "source": [
    "A function named `main` has special meaning and will be picked up as the entry point."
   ]
  },
  {
   "cell_type": "markdown",
   "id": "657fded2-8041-4623-a045-f5b0eaa65f74",
   "metadata": {
    "jp-MarkdownHeadingCollapsed": true
   },
   "source": [
    "#### `loop`"
   ]
  },
  {
   "cell_type": "markdown",
   "id": "18c366c1-a9dc-47a4-b7f2-e43c471ce528",
   "metadata": {},
   "source": [
    "The `loop` keyword will loop infinitely:"
   ]
  },
  {
   "cell_type": "code",
   "execution_count": 22,
   "id": "782dab97-c9c6-40f8-a971-a8ff53d484fd",
   "metadata": {},
   "outputs": [
    {
     "name": "stdout",
     "output_type": "stream",
     "text": [
      "Looping: 0\n",
      "Looping: 1\n",
      "Looping: 2\n",
      "Looping: 3\n"
     ]
    },
    {
     "data": {
      "text/plain": [
       "()"
      ]
     },
     "execution_count": 22,
     "metadata": {},
     "output_type": "execute_result"
    }
   ],
   "source": [
    "let mut n = 0;\n",
    "\n",
    "loop {\n",
    "    println!(\"Looping: {n}\");\n",
    "\n",
    "    if n > 2 {\n",
    "        break;\n",
    "    }\n",
    "\n",
    "    n += 1;\n",
    "}"
   ]
  },
  {
   "cell_type": "markdown",
   "id": "4a77990a-ae47-4bca-b878-db49b12644c5",
   "metadata": {},
   "source": [
    "It can be stopped with a `break`."
   ]
  },
  {
   "cell_type": "markdown",
   "id": "6572c67e-bd24-49ba-a045-bd29532d2ef7",
   "metadata": {},
   "source": [
    "#### `match`"
   ]
  },
  {
   "cell_type": "markdown",
   "id": "234e329d-b8e0-4bd7-87f1-924852c9e87a",
   "metadata": {},
   "source": [
    "`match` expressions allow taking different courses of action depending on a given match. Each possibility is referred to as an \"arm\". A `_` character acts as a catch-all when matching. "
   ]
  },
  {
   "cell_type": "markdown",
   "id": "e45f916a-5158-4bab-b4e7-b5a95fb67d18",
   "metadata": {},
   "source": [
    "Chapter 2 gives the following example when building the guessing game:"
   ]
  },
  {
   "cell_type": "code",
   "execution_count": 5,
   "id": "827968b0-8474-4a3b-89d5-b481ac5b08c9",
   "metadata": {},
   "outputs": [
    {
     "name": "stdout",
     "output_type": "stream",
     "text": [
      "Too small!\n"
     ]
    },
    {
     "data": {
      "text/plain": [
       "()"
      ]
     },
     "execution_count": 5,
     "metadata": {},
     "output_type": "execute_result"
    }
   ],
   "source": [
    "use std::cmp::Ordering;\n",
    "\n",
    "let guess = 5;\n",
    "let secret_number = 8;\n",
    "\n",
    "match guess.cmp(&secret_number) {\n",
    "    Ordering::Less => println!(\"Too small!\"),\n",
    "    Ordering::Greater => println!(\"Too big!\"),\n",
    "    Ordering::Equal => println!(\"You win!\"),\n",
    "}"
   ]
  },
  {
   "cell_type": "markdown",
   "id": "dc707502-1d55-484b-bd1c-87cf55fe704a",
   "metadata": {},
   "source": [
    "Here, `std::cmp::Ordering` is an enum, and the `cmp` method on the `guess` integer returns a variant of this enum. This allows them to be matched in the match expression above."
   ]
  },
  {
   "cell_type": "markdown",
   "id": "80b2dc64-cb2a-4c8b-af4e-b919c0a2efc1",
   "metadata": {},
   "source": [
    "A an expression, `match` can also returns values:"
   ]
  },
  {
   "cell_type": "markdown",
   "id": "88115681-9973-47f7-9774-899dc4fb29ac",
   "metadata": {},
   "source": [
    "```rust\n",
    "let guess: u32 = match guess.trim().parse() {\n",
    "    Ok(num) => num,\n",
    "    Err(_) => continue,\n",
    "};\n",
    "```"
   ]
  },
  {
   "cell_type": "markdown",
   "id": "53bf370d-98b9-4183-a8dd-2087ea523e1e",
   "metadata": {},
   "source": [
    "The example above, shown in Chapter 2, runs inside a loop. The `Ok(num)` arm takes the value returned by `parse` and returns it. The `Err(_)` arm simply continues to the next iteration."
   ]
  },
  {
   "cell_type": "markdown",
   "id": "7fc3c792-4e2d-470e-97f2-f6ecbc1dcabf",
   "metadata": {
    "jp-MarkdownHeadingCollapsed": true
   },
   "source": [
    "### Ranges"
   ]
  },
  {
   "cell_type": "markdown",
   "id": "c1ebb6f0-a783-473b-99e1-a0c26bc9e76b",
   "metadata": {},
   "source": [
    "Ranges are defined using `start..end` notation."
   ]
  },
  {
   "cell_type": "markdown",
   "id": "7c811dfe-8347-4590-83e7-020c61a18613",
   "metadata": {},
   "source": [
    "Without any additional operators, the range is inclusive on the lower and exclusive on the upper bound, i.e., $start \\le x \\lt end$."
   ]
  },
  {
   "cell_type": "code",
   "execution_count": 21,
   "id": "c986b81f-d4e6-45ea-a0fc-5aea7d8ad19f",
   "metadata": {},
   "outputs": [
    {
     "name": "stdout",
     "output_type": "stream",
     "text": [
      "1\n",
      "2\n"
     ]
    },
    {
     "data": {
      "text/plain": [
       "()"
      ]
     },
     "execution_count": 21,
     "metadata": {},
     "output_type": "execute_result"
    }
   ],
   "source": [
    "for i in 1..3 {\n",
    "    println!(\"{i}\");\n",
    "}"
   ]
  },
  {
   "cell_type": "markdown",
   "id": "c8456277-d996-4dbe-bea8-35517f09135b",
   "metadata": {},
   "source": [
    "A `=` at the end position, as in `1..=100` makes the range inclusive on the lower and upper bounds."
   ]
  },
  {
   "cell_type": "code",
   "execution_count": 30,
   "id": "9a2b94dd-67c0-42ae-8531-fe31343dbbbd",
   "metadata": {},
   "outputs": [
    {
     "name": "stdout",
     "output_type": "stream",
     "text": [
      "1\n",
      "2\n",
      "3\n"
     ]
    },
    {
     "data": {
      "text/plain": [
       "()"
      ]
     },
     "execution_count": 30,
     "metadata": {},
     "output_type": "execute_result"
    }
   ],
   "source": [
    "for i in 1..=3 {\n",
    "    println!(\"{i}\");\n",
    "}"
   ]
  },
  {
   "cell_type": "markdown",
   "id": "6d393d81-b398-4309-81a5-5e4ab4a41acb",
   "metadata": {},
   "source": [
    "For a more exhaustive listing, see [The Rust Reference: Range expressions](https://doc.rust-lang.org/1.79.0/reference/expressions/range-expr.html)."
   ]
  },
  {
   "cell_type": "markdown",
   "id": "9a86ceb2-9b77-472a-8a81-f91e8e284982",
   "metadata": {
    "editable": true,
    "jp-MarkdownHeadingCollapsed": true,
    "slideshow": {
     "slide_type": ""
    },
    "tags": []
   },
   "source": [
    "### Macros"
   ]
  },
  {
   "cell_type": "markdown",
   "id": "1565baae-1272-4e09-a5b1-03c92f88e527",
   "metadata": {},
   "source": [
    "Macros typically end with a `!` as in `println!()`."
   ]
  },
  {
   "cell_type": "markdown",
   "id": "a43fabe4-1c63-458e-9bb0-2ea4d10bce02",
   "metadata": {},
   "source": [
    "##### `println!()`"
   ]
  },
  {
   "cell_type": "markdown",
   "id": "40a237c8-d413-489c-b29b-1c041925c0d6",
   "metadata": {},
   "source": [
    "`println!()` takes a format string. This string can contain named variables as in `\"{named_variable}` or placeholders in the form of empty curly brackets, as in `\"{}\"`.\n",
    "\n",
    "The placeholders will be replaced  by the remaining arguments in the same order as they appeared. These can be variables but also expressions."
   ]
  },
  {
   "cell_type": "code",
   "execution_count": 12,
   "id": "172f175a-dc3d-431a-96d1-21bc2cf34665",
   "metadata": {
    "editable": true,
    "slideshow": {
     "slide_type": ""
    },
    "tags": []
   },
   "outputs": [
    {
     "name": "stdout",
     "output_type": "stream",
     "text": [
      "I am a named variable\n",
      "I am a named variable\n",
      "I am a placeholder\n",
      "true\n"
     ]
    }
   ],
   "source": [
    "let named_variable = \"I am a named variable\";\n",
    "\n",
    "println!(\"{named_variable}\");\n",
    "println!(\"{}\", named_variable);\n",
    "println!(\"{}\", \"I am a placeholder\");\n",
    "println!(\"{}\", (3 + 3) / 2 == 3);"
   ]
  },
  {
   "cell_type": "markdown",
   "id": "b5578060-4944-4477-8bed-f790cf9e71c4",
   "metadata": {
    "jp-MarkdownHeadingCollapsed": true
   },
   "source": [
    "### References"
   ]
  },
  {
   "cell_type": "markdown",
   "id": "480bfa51-ccb1-4631-8448-970836a51f6c",
   "metadata": {},
   "source": [
    "The `&` in `read_line(&mut input)` is a **reference**."
   ]
  },
  {
   "cell_type": "markdown",
   "id": "f1cc458c-c37c-41a6-8706-864f83ce3184",
   "metadata": {},
   "source": [
    "The Book describes references as _\"a way to let multiple parts of your code access one piece of data without needing to copy that data into memory multiple times.\"_ (Chapter 2)"
   ]
  },
  {
   "cell_type": "markdown",
   "id": "eb5ea044-fd0b-4086-b4b4-6fdaed7775ff",
   "metadata": {},
   "source": [
    "References are also immutable by default. A mutable reference is defined as `&mut reference_name`."
   ]
  },
  {
   "cell_type": "markdown",
   "id": "42ebb54f-15d9-4e64-b2ab-744cd91b5c67",
   "metadata": {
    "jp-MarkdownHeadingCollapsed": true
   },
   "source": [
    "## Types"
   ]
  },
  {
   "cell_type": "markdown",
   "id": "3d529259-f964-439a-8b23-57254315c7eb",
   "metadata": {},
   "source": [
    "### `std::result::Result`"
   ]
  },
  {
   "cell_type": "markdown",
   "id": "c690a70a-d893-4f91-bd0e-cf331289143b",
   "metadata": {},
   "source": [
    "`io::stdin().read_line(&mut input)` does not return the string itself. It returns a `Result` value."
   ]
  },
  {
   "cell_type": "markdown",
   "id": "0f4f1150-a8d5-4928-86bd-2bdc01488dd4",
   "metadata": {},
   "source": [
    "`Result` is an enum with the variants `Ok` and `Err`."
   ]
  },
  {
   "cell_type": "markdown",
   "id": "2e86968c-5612-43c6-9bf6-44db2797b46d",
   "metadata": {},
   "source": [
    "The `Ok` variant contains the actual value. In the case of `read_line`, the number of bytes in the input it read.\n",
    "\n",
    "The `Err` variant means the operation failed and contains information on how or why it failed."
   ]
  },
  {
   "cell_type": "markdown",
   "id": "7a91c9d6-9424-478b-a0d1-89f528333ee3",
   "metadata": {},
   "source": [
    "`Result` has a method called `expect`.\n",
    "\n",
    "When the `Result` instance is an `Err` variant, `expect` causes the program to crash and displays the error message passed to it. This error can be [handled](https://doc.rust-lang.org/book/ch09-02-recoverable-errors-with-result.html). \n",
    "\n",
    "When the `Result` intance is an `Ok` variant, `expect` returns the return value that `Ok` is holding."
   ]
  },
  {
   "cell_type": "markdown",
   "id": "1658bf02-30c5-4c75-963b-ce8c2dc6e40d",
   "metadata": {},
   "source": [
    "In an example from Chapter 2, the following is shown:"
   ]
  },
  {
   "cell_type": "code",
   "execution_count": 16,
   "id": "7ff8cf8d-cc78-4245-a2c4-3433919cf30d",
   "metadata": {},
   "outputs": [
    {
     "name": "stderr",
     "output_type": "stream",
     "text": [
      "thread '<unnamed>' panicked at src/lib.rs:101:39:\n",
      "Please type a number!: ParseIntError { kind: Empty }\n",
      "stack backtrace:\n",
      "   0: rust_begin_unwind\n",
      "             at /rustc/129f3b9964af4d4a709d1383930ade12dfe7c081/library/std/src/panicking.rs:652:5\n",
      "   1: core::panicking::panic_fmt\n",
      "             at /rustc/129f3b9964af4d4a709d1383930ade12dfe7c081/library/core/src/panicking.rs:72:14\n",
      "   2: core::result::unwrap_failed\n",
      "             at /rustc/129f3b9964af4d4a709d1383930ade12dfe7c081/library/core/src/result.rs:1654:5\n",
      "   3: <unknown>\n",
      "   4: <unknown>\n",
      "   5: evcxr::runtime::Runtime::run_loop\n",
      "   6: evcxr::runtime::runtime_hook\n",
      "   7: evcxr_jupyter::main\n",
      "note: Some details are omitted, run with `RUST_BACKTRACE=full` for a verbose backtrace.\n"
     ]
    }
   ],
   "source": [
    "let mut guess = String::new();\n",
    "let guess: u32 = guess.trim().parse().expect(\"Please type a number!\"); // panics"
   ]
  },
  {
   "cell_type": "markdown",
   "id": "28175abb-d423-48f3-b5f1-e0fdc862016e",
   "metadata": {},
   "source": [
    "In the code above, `parse` returns a `Result` type, which has the `expect` method. \n",
    "\n",
    "If `guess` before shadowing were a string containing a number character, such as `\"2\"` or `\"84\"`, it would successfully get [parsed](https://doc.rust-lang.org/std/primitive.str.html#method.parse). Because it doesn't, the returned `Result` is an `Err` variant. Due to this, the `expect` call causes a panic.\n",
    "\n",
    "When a valid number is passed instead, the `parse` call will return an `Ok` variant of `Result`, and when `expect` is called on it, instead of causing a panic, it will return the parsed number."
   ]
  },
  {
   "cell_type": "markdown",
   "id": "b27c6376-a316-4916-ab1b-1172a286e0b1",
   "metadata": {
    "jp-MarkdownHeadingCollapsed": true
   },
   "source": [
    "### `std::cmp::Ordering`"
   ]
  },
  {
   "cell_type": "markdown",
   "id": "541ca20b-3483-4d7a-b2bc-044c39c3d75a",
   "metadata": {},
   "source": [
    "`std::cmp::Ordering` is an enum with the variants `Less`, `Greater` and `Equal`, representing the three possible outcomes in a comparison."
   ]
  },
  {
   "cell_type": "markdown",
   "id": "fb79b63c-95de-4d7a-9ae0-fb6bef42ba50",
   "metadata": {},
   "source": [
    "Many types have a `cmp` method that perform a comparison betwene the caller and the argument. These methods return a variant of `Ordering`."
   ]
  },
  {
   "cell_type": "markdown",
   "id": "3196dd59-27ad-4a31-8ca9-d6ae433b6b23",
   "metadata": {},
   "source": [
    "The following example uses a [`match` expression](https://doc.rust-lang.org/book/ch06-02-match.html) to demonstrate this."
   ]
  },
  {
   "cell_type": "code",
   "execution_count": 40,
   "id": "b3c5f70e-bae3-4f38-8541-c4c223465c90",
   "metadata": {},
   "outputs": [
    {
     "name": "stdout",
     "output_type": "stream",
     "text": [
      "Smaller\n",
      "Bigger\n",
      "Equal\n"
     ]
    }
   ],
   "source": [
    "fn compare(x: i32, y: i32) {\n",
    "    match x.cmp(&y) {\n",
    "            Ordering::Less => println!(\"Smaller\"),\n",
    "            Ordering::Greater => println!(\"Bigger\"),\n",
    "            Ordering::Equal => println!(\"Equal\"),\n",
    "    }\n",
    "}\n",
    "\n",
    "compare(1, 2);\n",
    "compare(2, 1);\n",
    "compare(3, 3);"
   ]
  },
  {
   "cell_type": "markdown",
   "id": "9347c40a-b0ee-480b-93a6-3d9193f671a9",
   "metadata": {
    "jp-MarkdownHeadingCollapsed": true
   },
   "source": [
    "### `std::io::Stdin`"
   ]
  },
  {
   "cell_type": "markdown",
   "id": "19a05449-18dc-4735-9c71-5db2c1b4d9fb",
   "metadata": {},
   "source": [
    "To read user input, one can use `read_line` from `std::io::Stdin`:"
   ]
  },
  {
   "cell_type": "markdown",
   "id": "f4df8c7b-19af-46a7-8e80-3c4ab74d2ca3",
   "metadata": {},
   "source": [
    "```rust\n",
    "let mut input = String::new();\n",
    "\n",
    "io::stdin()\n",
    "    .read_line(&mut input)\n",
    "    .expect(\"Failed to read line\");\n",
    "```"
   ]
  },
  {
   "cell_type": "markdown",
   "id": "e19fad71-4247-4c55-b6e7-fa4ad7a11254",
   "metadata": {},
   "source": [
    "The argument to `read_line()`, in this case `&mut input`, is the string to store user input in."
   ]
  },
  {
   "cell_type": "markdown",
   "id": "86005cc2-acc2-4421-b277-fa7fe635c4a0",
   "metadata": {},
   "source": [
    "`read_line` does not overwrite the present contents of this string. It appends a new line every time it is called."
   ]
  },
  {
   "cell_type": "markdown",
   "id": "59773439-f955-4db9-a322-2027f6532ec0",
   "metadata": {
    "jp-MarkdownHeadingCollapsed": true
   },
   "source": [
    "## Libraries"
   ]
  },
  {
   "cell_type": "markdown",
   "id": "5fd22c2f-989c-4674-a09e-2ccd4665bc9d",
   "metadata": {},
   "source": [
    "Some parts of the standard library are always imported by default, called the [prelude](https://doc.rust-lang.org/std/prelude/index.html). Other parts need to be imported with `use`:"
   ]
  },
  {
   "cell_type": "code",
   "execution_count": 2,
   "id": "1c7e3848-a31b-4b83-b3b3-9974cddbe94f",
   "metadata": {},
   "outputs": [],
   "source": [
    "use std::io;"
   ]
  },
  {
   "cell_type": "markdown",
   "id": "976bbdbf-1813-4701-b075-d3f3df8637c4",
   "metadata": {},
   "source": [
    "If a `use` statement is not included, one can still call the contents of `std::io` by using, for example, `std::io::stdin().read_line(&mut input)`."
   ]
  },
  {
   "cell_type": "markdown",
   "id": "9a6c0db2-7ce2-4939-ac37-fb91fd97da91",
   "metadata": {},
   "source": [
    "The Book describes `std::io::stdin` as returning _\"an instance of `std::io::Stdin, which is a type that represents a handle to the standard input for your terminal.\" (Chapter 2)"
   ]
  },
  {
   "cell_type": "markdown",
   "id": "192198c6-3724-4791-b96e-6cd4812a709d",
   "metadata": {
    "editable": true,
    "jp-MarkdownHeadingCollapsed": true,
    "slideshow": {
     "slide_type": ""
    },
    "tags": []
   },
   "source": [
    "## Compilation & Tooling"
   ]
  },
  {
   "cell_type": "markdown",
   "id": "42ab7719-7efb-4838-8308-401f8086b99b",
   "metadata": {
    "jp-MarkdownHeadingCollapsed": true
   },
   "source": [
    "### Compilation"
   ]
  },
  {
   "cell_type": "markdown",
   "id": "a7a3b0f9-3534-47d4-af28-11ae734a24b9",
   "metadata": {},
   "source": [
    "Compilation without the Cargo build tool uses `rustc`:"
   ]
  },
  {
   "cell_type": "markdown",
   "id": "0e9d2662-5615-424d-a3cb-e88e039a8a17",
   "metadata": {},
   "source": [
    "```sh\n",
    "rustc main.rs\n",
    "./main\n",
    "Hello, world!\n",
    "```"
   ]
  },
  {
   "cell_type": "markdown",
   "id": "15440481-1c6b-4a48-984c-b72989f955fb",
   "metadata": {},
   "source": [
    "> Rust is an _ahead-of-time compiled_ language, meaning you can compile a program and give the executable to someone else, and they can run it even without having Rust installed.\n",
    "\n",
    "-- The Rust Programming Language, Chapter 1.2: _Hello, World!_"
   ]
  },
  {
   "cell_type": "markdown",
   "id": "a4b6990e-d447-41a1-903c-adf3d0b11858",
   "metadata": {
    "jp-MarkdownHeadingCollapsed": true
   },
   "source": [
    "### Cargo"
   ]
  },
  {
   "cell_type": "markdown",
   "id": "f612b618-665a-4371-a9c4-7eb15d3daa9d",
   "metadata": {},
   "source": [
    "Cargo's primary roles are to compile the project source code and manage dependencies."
   ]
  },
  {
   "cell_type": "markdown",
   "id": "1bdcc9f9-5408-4d7f-8fba-c37a2f7daf61",
   "metadata": {
    "jp-MarkdownHeadingCollapsed": true
   },
   "source": [
    "#### Project creation"
   ]
  },
  {
   "cell_type": "markdown",
   "id": "6c4498a6-3acb-4fad-a520-95aea72c4426",
   "metadata": {},
   "source": [
    "```sh\n",
    "cargo new hello_cargo\n",
    "cd hello_cargo\n",
    "```"
   ]
  },
  {
   "cell_type": "markdown",
   "id": "cad5aa26-3af8-405e-93c1-dd10633f01a0",
   "metadata": {},
   "source": [
    "Upon creating a project, cargo will setup the following file structure:\n",
    "\n",
    "```\n",
    ".\n",
    "├── .git\n",
    "├── .gitignore\n",
    "├── Cargo.toml\n",
    "└── src\n",
    "    └── main.rs\n",
    "```"
   ]
  },
  {
   "cell_type": "markdown",
   "id": "11b35b7e-f951-4b4c-bc6e-fc2f7ef5f9b7",
   "metadata": {},
   "source": [
    "There are additional options for project creation. See `cargo new --help` for an overview."
   ]
  },
  {
   "cell_type": "markdown",
   "id": "178af59a-222e-43b1-9d1d-9231dd3ebb25",
   "metadata": {
    "jp-MarkdownHeadingCollapsed": true
   },
   "source": [
    "#### `Cargo.toml`"
   ]
  },
  {
   "cell_type": "markdown",
   "id": "2b412b94-8d7e-41f1-a64f-26257e86164c",
   "metadata": {},
   "source": [
    "Cargo projects are configured through a `Cargo.toml` at the project root. Upon project creation, it has the following contents:"
   ]
  },
  {
   "cell_type": "markdown",
   "id": "9685c210-0017-48ea-acf4-f44ce95d5e95",
   "metadata": {},
   "source": [
    "```toml\n",
    "[package]\n",
    "name = \"hello2\"\n",
    "version = \"0.1.0\"\n",
    "edition = \"2021\"\n",
    "\n",
    "[dependencies]\n",
    "```"
   ]
  },
  {
   "cell_type": "markdown",
   "id": "3f1740a6-f96f-4d22-9e42-99beb9ca42b3",
   "metadata": {},
   "source": [
    "For a reference containing all options, see [the manifest format](https://doc.rust-lang.org/cargo/reference/manifest.html)."
   ]
  },
  {
   "cell_type": "markdown",
   "id": "67c4f7cc-3934-4242-875c-a00da430daa7",
   "metadata": {
    "jp-MarkdownHeadingCollapsed": true
   },
   "source": [
    "#### Checking"
   ]
  },
  {
   "cell_type": "markdown",
   "id": "7f661a96-6e7e-42a9-9385-c6874e4474e3",
   "metadata": {},
   "source": [
    "The `cargo check` command will analyze the code and determine if it compiles, but without producing any executables.\n",
    "\n",
    "It's a faster alternative to always building just to know if the code can compile."
   ]
  },
  {
   "cell_type": "markdown",
   "id": "3ddabaad-3f70-4b5c-b620-081a0a9699b1",
   "metadata": {
    "jp-MarkdownHeadingCollapsed": true
   },
   "source": [
    "#### Building"
   ]
  },
  {
   "cell_type": "markdown",
   "id": "60a4881e-04c0-40bb-8f32-29999d84b68c",
   "metadata": {},
   "source": [
    "A project can be built with `cargo build`. This will create a `target/debug` directory containing the build artifacts.\n",
    "\n",
    "This will also produce a `Cargo.lock` file at the project root.\n",
    "\n",
    "To produce an optimized release executable, use `cargo build --release`.\n",
    "\n",
    "A release build is slower and will create executables in `target/release`."
   ]
  },
  {
   "cell_type": "markdown",
   "id": "f4799d9e-8f68-426d-8fb3-04d0d7d105dd",
   "metadata": {
    "jp-MarkdownHeadingCollapsed": true
   },
   "source": [
    "#### Running"
   ]
  },
  {
   "cell_type": "markdown",
   "id": "1e58b73c-f8e6-4689-bccd-dd40a6892960",
   "metadata": {},
   "source": [
    "The project can be executed with `cargo run`. If it has not been built yet, it will be."
   ]
  },
  {
   "cell_type": "markdown",
   "id": "706c460c-647e-4250-a18d-deb58109d5d4",
   "metadata": {},
   "source": [
    "It is aware of code modifications, so it will not build again if nothing has changed."
   ]
  },
  {
   "cell_type": "markdown",
   "id": "627c8a2f-a303-4e41-a359-6c676fe355d1",
   "metadata": {
    "jp-MarkdownHeadingCollapsed": true
   },
   "source": [
    "#### Adding dependencies"
   ]
  },
  {
   "cell_type": "markdown",
   "id": "d864b99f-ef58-4494-a843-2d3b4d152d81",
   "metadata": {},
   "source": [
    "Dependencies can be added manually to the `Cargo.toml` file:"
   ]
  },
  {
   "cell_type": "markdown",
   "id": "c1a7194e-9549-4122-ad5d-fcfb4807378d",
   "metadata": {},
   "source": [
    "```toml\n",
    "[package]\n",
    "name = \"hello2\"\n",
    "version = \"0.1.0\"\n",
    "edition = \"2021\"\n",
    "\n",
    "[dependencies]\n",
    "rand = \"0.8.5\"\n",
    "```"
   ]
  },
  {
   "cell_type": "markdown",
   "id": "5673102a-e91f-49b7-ab77-39512791ed35",
   "metadata": {},
   "source": [
    "The same can be achieved with `cargo add rand@0.8.5`"
   ]
  },
  {
   "cell_type": "markdown",
   "id": "fb4557f7-9776-4ce5-a423-90e1b979200f",
   "metadata": {},
   "source": [
    "> The specifier `0.8.5` is actually shorthand for `^0.8.5`, which means any version that is at least 0.8.5 but below 0.9.0.\n",
    "\n",
    "-- The Rust Programming Language, Chapter 2: _Programming a Guessing Game_"
   ]
  },
  {
   "cell_type": "markdown",
   "id": "45299afc-d598-4d4e-af2e-42f68d76de8c",
   "metadata": {},
   "source": [
    "A `Cargo.lock` file also gets created containing the versions for the whole dependency tree. This ensures that builds are reproducible by locking dependency versions. This means versions of dependencies will not change unless explicitly upgraded to."
   ]
  },
  {
   "cell_type": "markdown",
   "id": "2d35821e-15e5-4b50-8932-69e12c7beb3a",
   "metadata": {},
   "source": [
    "This explicit update is done through `cargo update`, which in this case will _\"only look for versions greater than 0.8.5 and less than 0.9.0\"_ (Chapter 2).\n",
    "\n",
    "Unless the `Cargo.toml` file is changed to state `rand = \"0.9.0\"`, Cargo will keep ignoring this version and all that come after it."
   ]
  },
  {
   "cell_type": "markdown",
   "id": "8630cec4-34b6-4ee0-bc92-b4cd5f9e63f3",
   "metadata": {
    "jp-MarkdownHeadingCollapsed": true
   },
   "source": [
    "#### Building documentation"
   ]
  },
  {
   "cell_type": "markdown",
   "id": "10ef9990-d751-4d9f-9538-2e2ca9fa8f4d",
   "metadata": {},
   "source": [
    "`cargo doc --open` builds the documentation for the project and its dependencies locally and opens them in a browser.\n",
    "\n",
    "This is very useful to get a collated set of the documentation relevant to the project available offline.\n",
    "\n"
   ]
  },
  {
   "cell_type": "markdown",
   "id": "176df641-9716-4704-b173-203a20d0c331",
   "metadata": {
    "jp-MarkdownHeadingCollapsed": true
   },
   "source": [
    "### rustup"
   ]
  },
  {
   "cell_type": "markdown",
   "id": "f167ac75-fda9-4a48-822e-85cd3fd425e7",
   "metadata": {},
   "source": [
    "Primarily used to install the `rustc` compiler and the Rust toolchain, rustup has several other features."
   ]
  },
  {
   "cell_type": "markdown",
   "id": "b9fae8fa-e728-43d9-9c66-9f12f32edf4b",
   "metadata": {},
   "source": [
    "#### Displaying documentation"
   ]
  },
  {
   "cell_type": "markdown",
   "id": "fa0dfc8d-fc53-4e1c-8595-c9859aaffd43",
   "metadata": {},
   "source": [
    "`rustup doc` opens a very comprehensive index of documentation available offline, including:\n",
    "\n",
    "- the standard library's documentation\n",
    "- The Rust Programming Language, also known as \"The Rust Book\"\n",
    "- The Rust Reference\n",
    "- Rust By Example\n",
    "- the `rustc`, Cargo, Rustdoc and Clippy books\n",
    "- an index of error codes."
   ]
  },
  {
   "cell_type": "markdown",
   "id": "ba881c44-3361-466f-9f14-ec386c03120e",
   "metadata": {
    "jp-MarkdownHeadingCollapsed": true
   },
   "source": [
    "### Clippy"
   ]
  },
  {
   "cell_type": "markdown",
   "id": "4e3bc28c-79c1-4af7-be02-04ee165fe299",
   "metadata": {},
   "source": [
    "Clippy is a linter. It can be installed with `rustup component add clippy` and used with `cargo clippy`, which also appears as as the `cargo-clippy` executable."
   ]
  },
  {
   "cell_type": "markdown",
   "id": "fe58b8fd-3a73-4c3c-9fb4-b426bb032c2d",
   "metadata": {
    "jp-MarkdownHeadingCollapsed": true
   },
   "source": [
    "### `rustfmt`"
   ]
  },
  {
   "cell_type": "markdown",
   "id": "2268b544-c73a-4036-b250-e164a8d0c489",
   "metadata": {},
   "source": [
    "`rustfmt` formats code. It can be used as `cargo fmt` to format a whole Cargo project, or on an individual file as  `rustfmt <file>`."
   ]
  },
  {
   "cell_type": "markdown",
   "id": "66df2a0e-b9cb-4455-8920-b7a318fc20af",
   "metadata": {
    "jp-MarkdownHeadingCollapsed": true
   },
   "source": [
    "### `rustfix`"
   ]
  },
  {
   "cell_type": "markdown",
   "id": "24a25987-987e-490e-a0f6-338eea55287a",
   "metadata": {},
   "source": [
    "`rustfix` fixes some errors flagged by the compiler. It's used on the whole project with `cargo fix`."
   ]
  },
  {
   "cell_type": "markdown",
   "id": "96ebdef8-1d8a-4649-b2d8-17f11ee3f9fd",
   "metadata": {
    "jp-MarkdownHeadingCollapsed": true
   },
   "source": [
    "### rust-analyzer"
   ]
  },
  {
   "cell_type": "markdown",
   "id": "793fe609-f20e-4609-830c-d07c78d45ec4",
   "metadata": {},
   "source": [
    "`rust-analyzer` is a language server for Rust.\n",
    "\n",
    "It can be installed with `rustup component add rust-analyzer` and also requires the standard library sources. To obtain these, run `rustup component add rust-src`.\n",
    "\n",
    "A compatible editor configured for it is also needed. For Neovim, see [nvim-lspconfig's server configuration](https://github.com/neovim/nvim-lspconfig/blob/master/doc/server_configurations.md#rust_analyzer)."
   ]
  },
  {
   "cell_type": "markdown",
   "id": "ea1faaed-5cff-41dc-a1ae-4263980b5f9f",
   "metadata": {},
   "source": [
    "### See also"
   ]
  },
  {
   "cell_type": "markdown",
   "id": "628c911f-be04-4041-8857-2739bf45a31c",
   "metadata": {
    "jp-MarkdownHeadingCollapsed": true
   },
   "source": [
    "- [The Cargo Book](https://doc.rust-lang.org/cargo/index.html)\n",
    "- [Clippy documentation](https://github.com/rust-lang/rust-clippy)\n",
    "- [rustfmt documentation](https://github.com/rust-lang/rustfmt)\n",
    "- [rust-analyzer homepage](https://rust-analyzer.github.io/)"
   ]
  },
  {
   "cell_type": "markdown",
   "id": "3e086c89-ad49-45a8-b8ab-c968988e18c0",
   "metadata": {},
   "source": [
    "## References"
   ]
  },
  {
   "cell_type": "markdown",
   "id": "233fc7fe-aae1-4bb7-a85f-6c030e858cc2",
   "metadata": {},
   "source": [
    "1. [The Rust Programming Language](https://doc.rust-lang.org/1.79.0/book/), version 1.79.0 assuming 1.76.0 (released 2024-02-08)\n",
    "2. `rustc`, version 1.79.0 (129f3b996 2024-06-10)\n",
    "3. [The Rust Reference](https://doc.rust-lang.org/1.79.0/reference/), Rust 1.79.0\n",
    "4. [Rust standard library documentation](https://doc.rust-lang.org/1.79.0/std/index.html), version 1.79.0 (129f3b996 2024-06-10)"
   ]
  }
 ],
 "metadata": {
  "kernelspec": {
   "display_name": "Rust",
   "language": "rust",
   "name": "rust"
  },
  "language_info": {
   "codemirror_mode": "rust",
   "file_extension": ".rs",
   "mimetype": "text/rust",
   "name": "Rust",
   "pygment_lexer": "rust",
   "version": ""
  }
 },
 "nbformat": 4,
 "nbformat_minor": 5
}
