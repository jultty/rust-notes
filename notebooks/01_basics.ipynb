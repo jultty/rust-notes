{
 "cells": [
  {
   "cell_type": "markdown",
   "id": "c9d8153a-f2cf-4353-9303-c7f4ff363ffa",
   "metadata": {},
   "source": [
    "# Basics"
   ]
  },
  {
   "cell_type": "markdown",
   "id": "42ab7719-7efb-4838-8308-401f8086b99b",
   "metadata": {},
   "source": [
    "## Compilation"
   ]
  },
  {
   "cell_type": "markdown",
   "id": "a7a3b0f9-3534-47d4-af28-11ae734a24b9",
   "metadata": {},
   "source": [
    "Compilation without the Cargo build tool uses `rustc`:"
   ]
  },
  {
   "cell_type": "markdown",
   "id": "0e9d2662-5615-424d-a3cb-e88e039a8a17",
   "metadata": {},
   "source": [
    "```sh\n",
    "rustc main.rs\n",
    "./main\n",
    "Hello, world!\n",
    "```"
   ]
  },
  {
   "cell_type": "markdown",
   "id": "15440481-1c6b-4a48-984c-b72989f955fb",
   "metadata": {},
   "source": [
    "> Rust is an _ahead-of-time compiled_ language, meaning you can compile a program and give the executable to someone else, and they can run it even without having Rust installed."
   ]
  },
  {
   "cell_type": "markdown",
   "id": "ca603ab8-9de9-4600-84e3-6b707122160b",
   "metadata": {},
   "source": [
    "## Declarations"
   ]
  },
  {
   "cell_type": "markdown",
   "id": "d5bc0740-b44c-4b7c-a5c8-f286419a4b16",
   "metadata": {},
   "source": [
    "Rust has types and defaults to immutable variables."
   ]
  },
  {
   "cell_type": "code",
   "execution_count": 9,
   "id": "0918343b-e8d0-4d2a-8717-efca128a93b0",
   "metadata": {
    "tags": []
   },
   "outputs": [
    {
     "name": "stdout",
     "output_type": "stream",
     "text": [
      "63110\n"
     ]
    }
   ],
   "source": [
    "let i: i32 = 63110;\n",
    "\n",
    "println!(\"{}\", i);"
   ]
  },
  {
   "cell_type": "code",
   "execution_count": 10,
   "id": "b116282a-af37-4f22-9b6b-ce7924403f11",
   "metadata": {},
   "outputs": [
    {
     "ename": "Error",
     "evalue": "cannot assign twice to immutable variable `i`",
     "output_type": "error",
     "traceback": [
      "\u001b[31m[E0384] Error:\u001b[0m cannot assign twice to immutable variable `i`",
      "   \u001b[38;5;246m╭\u001b[0m\u001b[38;5;246m─\u001b[0m\u001b[38;5;246m[\u001b[0mcommand_10:1:1\u001b[38;5;246m]\u001b[0m",
      "   \u001b[38;5;246m│\u001b[0m",
      " \u001b[38;5;246m1 │\u001b[0m \u001b[38;5;54mi\u001b[0m\u001b[38;5;54m \u001b[0m\u001b[38;5;54m=\u001b[0m\u001b[38;5;54m \u001b[0m\u001b[38;5;54m3\u001b[0m\u001b[38;5;249m;\u001b[0m\u001b[38;5;249m \u001b[0m\u001b[38;5;249m/\u001b[0m\u001b[38;5;249m/\u001b[0m\u001b[38;5;249m \u001b[0m\u001b[38;5;249me\u001b[0m\u001b[38;5;249mr\u001b[0m\u001b[38;5;249mr\u001b[0m\u001b[38;5;249mo\u001b[0m\u001b[38;5;249mr\u001b[0m\u001b[38;5;249m:\u001b[0m\u001b[38;5;249m \u001b[0m\u001b[38;5;249mc\u001b[0m\u001b[38;5;249ma\u001b[0m\u001b[38;5;249mn\u001b[0m\u001b[38;5;249mn\u001b[0m\u001b[38;5;249mo\u001b[0m\u001b[38;5;249mt\u001b[0m\u001b[38;5;249m \u001b[0m\u001b[38;5;249ma\u001b[0m\u001b[38;5;249ms\u001b[0m\u001b[38;5;249ms\u001b[0m\u001b[38;5;249mi\u001b[0m\u001b[38;5;249mg\u001b[0m\u001b[38;5;249mn\u001b[0m\u001b[38;5;249m \u001b[0m\u001b[38;5;249mt\u001b[0m\u001b[38;5;249mw\u001b[0m\u001b[38;5;249mi\u001b[0m\u001b[38;5;249mc\u001b[0m\u001b[38;5;249me\u001b[0m\u001b[38;5;249m \u001b[0m\u001b[38;5;249mt\u001b[0m\u001b[38;5;249mo\u001b[0m\u001b[38;5;249m \u001b[0m\u001b[38;5;249mi\u001b[0m\u001b[38;5;249mm\u001b[0m\u001b[38;5;249mm\u001b[0m\u001b[38;5;249mu\u001b[0m\u001b[38;5;249mt\u001b[0m\u001b[38;5;249ma\u001b[0m\u001b[38;5;249mb\u001b[0m\u001b[38;5;249ml\u001b[0m\u001b[38;5;249me\u001b[0m\u001b[38;5;249m \u001b[0m\u001b[38;5;249mv\u001b[0m\u001b[38;5;249ma\u001b[0m\u001b[38;5;249mr\u001b[0m\u001b[38;5;249mi\u001b[0m\u001b[38;5;249ma\u001b[0m\u001b[38;5;249mb\u001b[0m\u001b[38;5;249ml\u001b[0m\u001b[38;5;249me\u001b[0m",
      " \u001b[38;5;240m  │\u001b[0m \u001b[38;5;54m─\u001b[0m\u001b[38;5;54m─\u001b[0m\u001b[38;5;54m┬\u001b[0m\u001b[38;5;54m─\u001b[0m\u001b[38;5;54m─\u001b[0m  ",
      " \u001b[38;5;240m  │\u001b[0m   \u001b[38;5;54m╰\u001b[0m\u001b[38;5;54m─\u001b[0m\u001b[38;5;54m─\u001b[0m\u001b[38;5;54m─\u001b[0m\u001b[38;5;54m─\u001b[0m cannot assign twice to immutable variable",
      " \u001b[38;5;240m  │\u001b[0m ",
      " \u001b[38;5;240m  │\u001b[0m \u001b[38;5;115mNote\u001b[0m: You can change an existing variable to mutable like: `let mut x = x;`",
      "\u001b[38;5;246m───╯\u001b[0m"
     ]
    }
   ],
   "source": [
    "i = 3; // error: cannot assign twice to immutable variable"
   ]
  },
  {
   "cell_type": "code",
   "execution_count": 11,
   "id": "131dc8ad-54e4-4cb9-b935-a09e2190dadf",
   "metadata": {},
   "outputs": [
    {
     "name": "stdout",
     "output_type": "stream",
     "text": [
      "3\n"
     ]
    }
   ],
   "source": [
    "let mut b: f32 = 2.63110001;\n",
    "b = 3.00000001;\n",
    "\n",
    "println!(\"{}\", b);"
   ]
  },
  {
   "cell_type": "code",
   "execution_count": 10,
   "id": "886ad7af-b1a9-468f-a63e-c3882db5795c",
   "metadata": {},
   "outputs": [
    {
     "name": "stdout",
     "output_type": "stream",
     "text": [
      "foo\n"
     ]
    }
   ],
   "source": [
    "let s: &str = \"foo\";\n",
    "\n",
    "println!(\"{}\", s);"
   ]
  },
  {
   "cell_type": "markdown",
   "id": "7fbb29a0-dac2-43f5-89e9-658078d3a855",
   "metadata": {},
   "source": [
    "### Functions"
   ]
  },
  {
   "cell_type": "code",
   "execution_count": 17,
   "id": "aab89fe5-e145-4a52-ae3b-17c5349991c7",
   "metadata": {},
   "outputs": [],
   "source": [
    "fn main() {\n",
    "    println!(\"hello, rust\");\n",
    "}"
   ]
  },
  {
   "cell_type": "markdown",
   "id": "d2915d65-257b-4c55-9ef5-199fd805111d",
   "metadata": {},
   "source": [
    "A function named `main` has special meaning and will be picked up as the entry point."
   ]
  },
  {
   "cell_type": "markdown",
   "id": "9a86ceb2-9b77-472a-8a81-f91e8e284982",
   "metadata": {},
   "source": [
    "## Macros"
   ]
  },
  {
   "cell_type": "markdown",
   "id": "1565baae-1272-4e09-a5b1-03c92f88e527",
   "metadata": {},
   "source": [
    "Macros typically end with a `!` as in `println!()`."
   ]
  },
  {
   "cell_type": "markdown",
   "id": "033c8a93-a487-4a54-bf77-272e4e15e5c7",
   "metadata": {},
   "source": [
    "## Style"
   ]
  },
  {
   "cell_type": "markdown",
   "id": "6eec4e80-a4eb-486f-9742-7dec6b5b5387",
   "metadata": {},
   "source": [
    "- Four-spaces indentation"
   ]
  },
  {
   "cell_type": "markdown",
   "id": "192198c6-3724-4791-b96e-6cd4812a709d",
   "metadata": {},
   "source": [
    "## Tooling"
   ]
  },
  {
   "cell_type": "markdown",
   "id": "fe58b8fd-3a73-4c3c-9fb4-b426bb032c2d",
   "metadata": {},
   "source": [
    "### `rustfmt`"
   ]
  }
 ],
 "metadata": {
  "kernelspec": {
   "display_name": "Rust",
   "language": "rust",
   "name": "rust"
  },
  "language_info": {
   "codemirror_mode": "rust",
   "file_extension": ".rs",
   "mimetype": "text/rust",
   "name": "Rust",
   "pygment_lexer": "rust",
   "version": ""
  }
 },
 "nbformat": 4,
 "nbformat_minor": 5
}
